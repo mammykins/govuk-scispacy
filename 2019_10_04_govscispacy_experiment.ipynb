{
 "cells": [
  {
   "cell_type": "markdown",
   "metadata": {
    "colab_type": "text",
    "id": "view-in-github"
   },
   "source": [
    "<a href=\"https://colab.research.google.com/github/mammykins/govuk-scispacy/blob/master/2019_10_04_govscispacy_experiment.ipynb\" target=\"_parent\"><img src=\"https://colab.research.google.com/assets/colab-badge.svg\" alt=\"Open In Colab\"/></a>"
   ]
  },
  {
   "cell_type": "markdown",
   "metadata": {
    "colab_type": "text",
    "id": "SLnkHh1oUpPY"
   },
   "source": [
    "[![Open In Colab](https://colab.research.google.com/assets/colab-badge.svg)](https://colab.research.google.com/drive/1vpMhm2UGgTOKGgAfOz7pZgm_unnI7bU2#scrollTo=SLnkHh1oUpPY)\n",
    "\n",
    "# GOV.UK scispacy on technical scientific content\n",
    "\n",
    "We are interested in Named Entity Recognition on scientific content. This might help search and navigation about this content by enriching meta data.\n",
    "\n",
    "We test on a trial page. We GOV.UK searched for \"immunoglobin\" and picked this [search result](https://www.gov.uk/drug-safety-update/vivaglobin-solution-for-subcutaneous-injection-rare-risk-of-thromboembolic-events) as it looked suitably technical.\n",
    "\n",
    "```\n",
    "Article date: April 2011\n",
    "\n",
    "Vivaglobin 160 mg/mL (human normal immunoglobin solution for subcutaneous injection) is licensed as replacement therapy for adults and children with primary immunodeficiency syndromes, myeloma, or chronic lymphatic leukaemia.\n",
    "\n",
    "There have been rare and unexpected reports from outside the UK of thromboembolic events such as stroke, myocardial infarction, deep vein thrombosis and pulmonary embolism in association with Vivaglobin use.\n",
    "\n",
    "Investigations revealed pro-coagulant activity of some batches. The affected batches are no longer being distributed by the manufacturer (although some may still be in use), and only batches with low pro-coagulant activity will be distributed in future. A supply shortage is not envisaged and alternative treatments are available.\n",
    "```\n",
    "\n",
    "## Installing scispacy\n",
    "First we install the library then we need to install any language models we want to use (there are lots of potential language models so we need to pick a suitable one!).\n",
    "\n"
   ]
  },
  {
   "cell_type": "code",
   "execution_count": null,
   "metadata": {
    "ExecuteTime": {
     "end_time": "2019-10-04T11:45:35.912269Z",
     "start_time": "2019-10-04T11:40:59.644513Z"
    },
    "colab": {
     "base_uri": "https://localhost:8080/",
     "height": 1000
    },
    "colab_type": "code",
    "id": "Frn8zryzUeFF",
    "outputId": "f677b7bb-3d62-44bc-bdb0-988e0af5614e"
   },
   "outputs": [],
   "source": [
    "## the ! tells the cell to run the code in the command line\n",
    "# !pip install scispacy\n",
    "# !pip install https://s3-us-west-2.amazonaws.com/ai2-s2-scispacy/releases/v0.2.3/en_core_sci_md-0.2.3.tar.gz\n",
    "## for me install got stuck, so I clicked stop, then install continued on\n"
   ]
  },
  {
   "cell_type": "code",
   "execution_count": null,
   "metadata": {
    "ExecuteTime": {
     "end_time": "2019-10-04T14:32:40.722453Z",
     "start_time": "2019-10-04T14:32:39.713517Z"
    },
    "colab": {
     "base_uri": "https://localhost:8080/",
     "height": 243
    },
    "colab_type": "code",
    "id": "CEdtdmksfs3M",
    "outputId": "2326ee0b-9fef-41e9-9f9c-d6971114f295"
   },
   "outputs": [],
   "source": [
    "#link the model as downloaded from url\n",
    "#!python -m spacy link /root/.cache/pip/wheels/e0/40/1a/f663b41bbfb8828b223b33a24a1ad300b87166aebb1765be18 en_core_sci_md [--force]\n",
    "# check the model has been downloaded and linked correctly\n",
    "!python -m spacy info"
   ]
  },
  {
   "cell_type": "markdown",
   "metadata": {
    "colab_type": "text",
    "id": "V8r-TAFdUoFU"
   },
   "source": [
    "Direct downloads don’t perform any compatibility checks and require the model name to be specified with its version (e.g. en_core_web_sm-2.2.0).\n",
    "\n",
    "Once you have completed the above steps and downloaded one of the models below, you can load a scispaCy model as you would any other spaCy model. For example:"
   ]
  },
  {
   "cell_type": "code",
   "execution_count": null,
   "metadata": {
    "colab": {},
    "colab_type": "code",
    "id": "V5evVRbAZVdj"
   },
   "outputs": [],
   "source": [
    "import spacy\n",
    "\n",
    "nlp = spacy.load(\"en_core_sci_md\")\n"
   ]
  },
  {
   "cell_type": "markdown",
   "metadata": {
    "colab_type": "text",
    "id": "R_6PcKIiZn5n"
   },
   "source": [
    "It's prudent to consider your use case when picking the model. Obviously models with larger vocabs and word vectors might provide better NER at the cost of larger model size. The training corpus will also be very relevant to consider!\n",
    "\n",
    "See the `scipacy` [docs](https://github.com/allenai/scispacy) for guidance. Over `spacy` models can be found [here](https://github.com/explosion/spaCy)."
   ]
  }
 ],
 "metadata": {
  "colab": {
   "include_colab_link": true,
   "name": "2019-10-04-govscispacy-experiment.ipynb",
   "provenance": []
  },
  "kernelspec": {
   "display_name": "Python 3",
   "language": "python",
   "name": "python3"
  },
  "language_info": {
   "codemirror_mode": {
    "name": "ipython",
    "version": 3
   },
   "file_extension": ".py",
   "mimetype": "text/x-python",
   "name": "python",
   "nbconvert_exporter": "python",
   "pygments_lexer": "ipython3",
   "version": "3.6.8"
  },
  "toc": {
   "base_numbering": 1,
   "nav_menu": {},
   "number_sections": true,
   "sideBar": true,
   "skip_h1_title": false,
   "title_cell": "Table of Contents",
   "title_sidebar": "Contents",
   "toc_cell": false,
   "toc_position": {},
   "toc_section_display": true,
   "toc_window_display": false
  }
 },
 "nbformat": 4,
 "nbformat_minor": 1
}
